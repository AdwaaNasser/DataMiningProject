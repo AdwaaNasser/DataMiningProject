{
  "nbformat": 4,
  "nbformat_minor": 0,
  "metadata": {
    "colab": {
      "provenance": [],
      "authorship_tag": "ABX9TyMlwOBKcgfYhdwvwPluwoe6",
      "include_colab_link": true
    },
    "kernelspec": {
      "name": "python3",
      "display_name": "Python 3"
    },
    "language_info": {
      "name": "python"
    }
  },
  "cells": [
    {
      "cell_type": "markdown",
      "metadata": {
        "id": "view-in-github",
        "colab_type": "text"
      },
      "source": [
        "<a href=\"https://colab.research.google.com/github/AdwaaNasser/DataMiningProject/blob/main/phase1.ipynb\" target=\"_parent\"><img src=\"https://colab.research.google.com/assets/colab-badge.svg\" alt=\"Open In Colab\"/></a>"
      ]
    },
    {
      "cell_type": "markdown",
      "source": [
        " **Project Goal :** The goal of this project is to analyze and predict air quality using two complementary data mining techniques: classification and clustering. Through classification, the project aims to develop a predictive model that categorizes air quality into three levels—Good, Moderate, and Poor—based on various factors such as pollutant concentrations (PM2.5, PM10, NO2, SO2, CO), weather conditions (temperature and humidity), industrial proximity, and population density. Clustering will be used to group records with similar environmental characteristics, helping to uncover hidden patterns and typical pollution profiles. Together, these techniques will provide valuable insights into air quality trends and support more informed environmental decision-making.\n"
      ],
      "metadata": {
        "id": "zvHfwjzk9kmM"
      }
    },
    {
      "cell_type": "markdown",
      "source": [
        "**Dataset** **Source** : The dataset used in this study was obtained from Kaggle : https://www.kaggle.com/datasets/mujtabamatin/air-quality-and-pollution-assessment\n"
      ],
      "metadata": {
        "id": "EO9-fz1g9oie"
      }
    },
    {
      "cell_type": "markdown",
      "source": [
        "**Dataset** **Description** :\n",
        "\n",
        "Number of objects (records) : 5000 objects\n",
        "\n",
        "Number of Attributes : 10 attributes\n",
        "\n",
        "\n",
        "\n",
        "Data type of each attribute :\n"
      ],
      "metadata": {
        "id": "GHRsm30w-nkI"
      }
    },
    {
      "cell_type": "markdown",
      "source": [
        "| Attribute                     | Data Type |\n",
        "|---------------------|--------|\n",
        "| Temperature                   | float64   |\n",
        "| Humidity                      | float64   |\n",
        "| PM2.5                         | float64   |\n",
        "| PM10                          | float64   |\n",
        "| NO2                           | float64   |\n",
        "| SO2                           | float64   |\n",
        "| CO                            | float64   |\n",
        "| Proximity_to_Industrial_Areas | float64   |\n",
        "| Population_Density            | int64     |\n",
        "| Air Quality                   | object    |"
      ],
      "metadata": {
        "id": "e8Z642uOdg79"
      }
    },
    {
      "cell_type": "markdown",
      "source": [
        "Detailed description :\n",
        "\n",
        "\n",
        "Temperature (°C): A continuous numerical attribute indicating the average regional temperature.\n",
        "\n",
        "\n",
        "\n",
        "Humidity (%): A continuous numerical attribute representing the relative humidity level in the region.\n",
        "\n",
        "\n",
        "\n",
        "PM2.5 Concentration (ug/m³): A continuous numerical attribute measuring fine particulate matter in the air.\n",
        "\n",
        "\n",
        "\n",
        "PM10 Concentration (ug/m³): A continuous numerical attribute measuring coarse particulate matter in the air.\n",
        "\n",
        "\n",
        "\n",
        "NO2 Concentration (ppb): A continuous numerical attribute representing nitrogen dioxide concentration.\n",
        "\n",
        "\n",
        "\n",
        "SO2 Concentration (ppb): A continuous numerical attribute representing sulfur dioxide concentration.\n",
        "\n",
        "\n",
        "\n",
        "CO Concentration (ppm): A continuous numerical attribute representing carbon monoxide concentration.\n",
        "\n",
        "\n",
        "\n",
        "Proximity to Industrial Areas (km): A continuous numerical attribute specifying the distance to the nearest industrial zone.\n",
        "\n",
        "\n",
        "\n",
        "Population Density (people/km²): A continuous numerical attribute representing the number of people living per square kilometer in the region."
      ],
      "metadata": {
        "id": "eWq3z0vAdWdM"
      }
    },
    {
      "cell_type": "markdown",
      "source": [
        "Count of instances for each label :\n",
        "\n",
        "| Air Quality | Count |\n",
        "|-------------|-------|\n",
        "| Good        | 2000  |\n",
        "| Moderate    | 1500  |\n",
        "| Poor        | 1000  |\n",
        "| Hazardous   | 500   |"
      ],
      "metadata": {
        "id": "YOyYlunrfF5A"
      }
    },
    {
      "cell_type": "markdown",
      "source": [
        "A sample of the raw dataset :\n",
        "\n",
        "\n",
        "| Temperature | Humidity | PM2.5 | PM10 |  NO2 | SO2 |  CO  | Proximity_to_Industrial_Areas | Population_Density | Air Quality |\n",
        "|-------------|----------|-------|------|------|-----|------|-------------------------------|---------------------|--------------|\n",
        "|        29.8 |     59.1 |   5.2 | 17.9 | 18.9 | 9.2 | 1.72 |                           6.3 |                 319 |     Moderate |\n",
        "|        28.3 |     75.6 |   2.3 | 12.2 | 30.8 | 9.7 | 1.64 |                           6.0 |                 611 |     Moderate |\n",
        "|        23.1 |     74.7 |  26.7 | 33.8 | 24.4 |12.6 | 1.63 |                           5.2 |                 619 |     Moderate |\n",
        "|        27.1 |     39.1 |   6.1 |  6.3 | 13.5 | 5.3 | 1.15 |                          11.1 |                 551 |         Good |\n",
        "|        26.5 |     70.7 |   6.9 | 16.0 | 21.9 | 5.6 | 1.01 |                          12.7 |                 303 |         Good |\n",
        "|        40.6 |     74.1 | 116.0 |126.7 | 45.5 |25.7 | 2.11 |                           2.8 |                 765 |   Hazardous |\n",
        "|        28.1 |     96.9 |   6.9 | 25.0 | 25.3 |10.8 | 1.54 |                           5.7 |                 709 |     Moderate |\n",
        "|        25.9 |     78.2 |  14.2 | 22.1 | 34.8 | 7.8 | 1.63 |                           9.6 |                 379 |     Moderate |\n",
        "|        25.3 |     44.4 |  21.4 | 29.0 | 23.7 | 5.7 | 0.89 |                          11.6 |                 241 |         Good |\n",
        "|        24.1 |     77.9 |  81.7 | 94.3 | 23.2 |10.5 | 1.38 |                           8.3 |                 461 |     Moderate |\n"
      ],
      "metadata": {
        "id": "9rPPE0zrgXyA"
      }
    },
    {
      "cell_type": "markdown",
      "source": [
        "code snippet :"
      ],
      "metadata": {
        "id": "k4vmLkmFfT3M"
      }
    },
    {
      "cell_type": "code",
      "source": [
        "import pandas as pd\n",
        "df = pd.read_csv('updated_pollution_dataset.csv')\n",
        "\n",
        "#to get the type of each attribute\n",
        "attribute_types = pd.DataFrame({\n",
        "    'Attribute': df.columns,\n",
        "    'Data Type': df.dtypes.values\n",
        "})\n",
        "print(attribute_types)\n",
        "print()\n"
      ],
      "metadata": {
        "colab": {
          "base_uri": "https://localhost:8080/"
        },
        "id": "xpt-z2bj5yaH",
        "outputId": "44cdbea6-567b-44a9-e4ec-02bf186c4657"
      },
      "execution_count": 4,
      "outputs": [
        {
          "output_type": "stream",
          "name": "stdout",
          "text": [
            "                       Attribute Data Type\n",
            "0                    Temperature   float64\n",
            "1                       Humidity   float64\n",
            "2                          PM2.5   float64\n",
            "3                           PM10   float64\n",
            "4                            NO2   float64\n",
            "5                            SO2   float64\n",
            "6                             CO   float64\n",
            "7  Proximity_to_Industrial_Areas   float64\n",
            "8             Population_Density     int64\n",
            "9                    Air Quality    object\n",
            "\n"
          ]
        }
      ]
    },
    {
      "cell_type": "code",
      "source": [
        "#to get the number of attribute\n",
        "print(f\"The number of attribute : {df.shape[1]}\")\n",
        "print()\n",
        "#to get the number of rows\n",
        "print(f\"The number of objects (records) : {df.shape[0]}\")\n",
        "#to print the class attribute with its values and the count of instances for each lable\n",
        "label_column = 'Air Quality'\n",
        "if label_column in df.columns:\n",
        "  print(\"\\nCount of instances for each lable :\")\n",
        "  print(df[label_column].value_counts())"
      ],
      "metadata": {
        "colab": {
          "base_uri": "https://localhost:8080/"
        },
        "id": "Q1qM7jpy7jiC",
        "outputId": "aec14fcc-be06-4b0d-e381-9e59acce989b"
      },
      "execution_count": 7,
      "outputs": [
        {
          "output_type": "stream",
          "name": "stdout",
          "text": [
            "The number of attribute : 10\n",
            "\n",
            "The number of objects (records) : 5000\n",
            "\n",
            "Count of instances for each lable :\n",
            "Air Quality\n",
            "Good         2000\n",
            "Moderate     1500\n",
            "Poor         1000\n",
            "Hazardous     500\n",
            "Name: count, dtype: int64\n"
          ]
        }
      ]
    },
    {
      "cell_type": "code",
      "source": [
        "print(\"\\nSample of the raw dataset:\")\n",
        "print(df.head())\n",
        "print(df.tail())"
      ],
      "metadata": {
        "colab": {
          "base_uri": "https://localhost:8080/"
        },
        "id": "0rUzARrR-YsK",
        "outputId": "0d837f4c-27df-4369-e800-68556efde31e"
      },
      "execution_count": 6,
      "outputs": [
        {
          "output_type": "stream",
          "name": "stdout",
          "text": [
            "\n",
            "Sample of the raw dataset:\n",
            "   Temperature  Humidity  PM2.5  PM10   NO2   SO2    CO  \\\n",
            "0         29.8      59.1    5.2  17.9  18.9   9.2  1.72   \n",
            "1         28.3      75.6    2.3  12.2  30.8   9.7  1.64   \n",
            "2         23.1      74.7   26.7  33.8  24.4  12.6  1.63   \n",
            "3         27.1      39.1    6.1   6.3  13.5   5.3  1.15   \n",
            "4         26.5      70.7    6.9  16.0  21.9   5.6  1.01   \n",
            "\n",
            "   Proximity_to_Industrial_Areas  Population_Density Air Quality  \n",
            "0                            6.3                 319    Moderate  \n",
            "1                            6.0                 611    Moderate  \n",
            "2                            5.2                 619    Moderate  \n",
            "3                           11.1                 551        Good  \n",
            "4                           12.7                 303        Good  \n",
            "      Temperature  Humidity  PM2.5   PM10   NO2   SO2    CO  \\\n",
            "4995         40.6      74.1  116.0  126.7  45.5  25.7  2.11   \n",
            "4996         28.1      96.9    6.9   25.0  25.3  10.8  1.54   \n",
            "4997         25.9      78.2   14.2   22.1  34.8   7.8  1.63   \n",
            "4998         25.3      44.4   21.4   29.0  23.7   5.7  0.89   \n",
            "4999         24.1      77.9   81.7   94.3  23.2  10.5  1.38   \n",
            "\n",
            "      Proximity_to_Industrial_Areas  Population_Density Air Quality  \n",
            "4995                            2.8                 765   Hazardous  \n",
            "4996                            5.7                 709    Moderate  \n",
            "4997                            9.6                 379    Moderate  \n",
            "4998                           11.6                 241        Good  \n",
            "4999                            8.3                 461    Moderate  \n"
          ]
        }
      ]
    }
  ]
}