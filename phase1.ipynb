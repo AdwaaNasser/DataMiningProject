{
  "nbformat": 4,
  "nbformat_minor": 0,
  "metadata": {
    "colab": {
      "provenance": [],
      "toc_visible": true,
      "authorship_tag": "ABX9TyNvmX5lR5cmZg9qLxfgQbC1",
      "include_colab_link": true
    },
    "kernelspec": {
      "name": "python3",
      "display_name": "Python 3"
    },
    "language_info": {
      "name": "python"
    }
  },
  "cells": [
    {
      "cell_type": "markdown",
      "metadata": {
        "id": "view-in-github",
        "colab_type": "text"
      },
      "source": [
        "<a href=\"https://colab.research.google.com/github/AdwaaNasser/DataMiningProject/blob/main/phase1.ipynb\" target=\"_parent\"><img src=\"https://colab.research.google.com/assets/colab-badge.svg\" alt=\"Open In Colab\"/></a>"
      ]
    },
    {
      "cell_type": "markdown",
      "source": [
        "Poject Goal"
      ],
      "metadata": {
        "id": "zvHfwjzk9kmM"
      }
    },
    {
      "cell_type": "markdown",
      "source": [
        "Dataset Source : The dataset used in this study was obtained from Kaggle : https://www.kaggle.com/datasets/mujtabamatin/air-quality-and-pollution-assessment\n"
      ],
      "metadata": {
        "id": "EO9-fz1g9oie"
      }
    },
    {
      "cell_type": "markdown",
      "source": [
        "Dataset Description :\n",
        "\n",
        "\n",
        "Number of Attributes : 9 attributes\n",
        "\n",
        "Detailed informations:\n",
        "\n",
        "\n",
        "Number of Objects (records) : records\n"
      ],
      "metadata": {
        "id": "GHRsm30w-nkI"
      }
    }
  ]
}